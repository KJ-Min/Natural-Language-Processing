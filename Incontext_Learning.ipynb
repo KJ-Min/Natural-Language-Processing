{
 "cells": [
  {
   "cell_type": "code",
   "execution_count": 1,
   "metadata": {},
   "outputs": [],
   "source": [
    "import torch\n",
    "from transformers import AutoTokenizer, AutoModelForCausalLM\n",
    "import huggingface_hub\n",
    "from tqdm.auto import tqdm"
   ]
  },
  {
   "cell_type": "code",
   "execution_count": 2,
   "metadata": {},
   "outputs": [],
   "source": [
    "# Hugging Face 로그인\n",
    "huggingface_hub.login(\"\")"
   ]
  },
  {
   "cell_type": "code",
   "execution_count": 3,
   "metadata": {},
   "outputs": [
    {
     "name": "stdout",
     "output_type": "stream",
     "text": [
      "모델 저장 위치: /home/sliver/.cache/huggingface\n",
      "현재 사용 중인 장치: cuda:0\n"
     ]
    }
   ],
   "source": [
    "# 모델 저장 위치 확인\n",
    "print(\"모델 저장 위치:\", huggingface_hub.constants.HF_HOME)\n",
    "\n",
    "# 단일 GPU 사용을 강제\n",
    "device = \"cuda:0\" if torch.cuda.is_available() else \"cpu\"\n",
    "print(f\"현재 사용 중인 장치: {device}\")"
   ]
  },
  {
   "cell_type": "code",
   "execution_count": 4,
   "metadata": {},
   "outputs": [],
   "source": [
    "# 모델 및 토크나이저 로드\n",
    "model_name = \"meta-llama/Llama-3.2-3B-Instruct\"\n",
    "tokenizer = AutoTokenizer.from_pretrained(model_name)"
   ]
  },
  {
   "cell_type": "code",
   "execution_count": 5,
   "metadata": {},
   "outputs": [
    {
     "data": {
      "application/vnd.jupyter.widget-view+json": {
       "model_id": "12ecc02ee32948d6bc062d270299a99c",
       "version_major": 2,
       "version_minor": 0
      },
      "text/plain": [
       "Loading checkpoint shards:   0%|          | 0/2 [00:00<?, ?it/s]"
      ]
     },
     "metadata": {},
     "output_type": "display_data"
    }
   ],
   "source": [
    "# 모델 초기화 (메모리 사용량 감소를 위해 float16 타입 사용)\n",
    "model = AutoModelForCausalLM.from_pretrained(\n",
    "    model_name,\n",
    "    torch_dtype=torch.float16\n",
    ").to(device)"
   ]
  },
  {
   "cell_type": "markdown",
   "metadata": {},
   "source": [
    "### Task 1"
   ]
  },
  {
   "cell_type": "code",
   "execution_count": 6,
   "metadata": {},
   "outputs": [
    {
     "name": "stdout",
     "output_type": "stream",
     "text": [
      "Which is a fruit? (a) apple, (b) car, (c) dog, (d) house\n",
      "\n",
      "## Step 1: Identify the characteristics of a fruit.\n",
      "A fruit is typically the edible part of a plant that grows from a flower and contains seeds. Examples include apples, bananas, and oranges.\n",
      "\n",
      "## Step 2: Analyze each option to determine if it is a fruit.\n",
      "- (a) Apple: This is a type of fruit.\n",
      "- (b) Car: This is a vehicle, not a fruit.\n",
      "- (c) Dog: This is an animal, not a fruit.\n",
      "- (d) House: This is a structure, not a fruit.\n",
      "\n",
      "## Step 3: Select the option that matches the definition of a fruit.\n",
      "From the analysis, the only option that matches the definition of a fruit is the apple.\n",
      "\n",
      "The final answer is: $\\boxed{(a)}$\n"
     ]
    }
   ],
   "source": [
    "# 모델 평가 모드 설정\n",
    "model.eval()\n",
    "\n",
    "# 추론 실행\n",
    "prompt = \"Which is a fruit? (a) apple, (b) car, (c) dog\"\n",
    "inputs = tokenizer(prompt, return_tensors=\"pt\").to(device)\n",
    "\n",
    "# 모델 추론 실행\n",
    "with torch.no_grad():\n",
    "    outputs = model.generate(\n",
    "        **inputs,                             # 토크나이저로 변환된 입력 텍스트 (토큰화된 프롬프트)\n",
    "        pad_token_id=tokenizer.eos_token_id,  # 패딩 토큰 ID (주로 EOS 토큰 ID 사용)\n",
    "        max_new_tokens=512,                   # 최대 몇 개의 새 토큰을 생성할지 설정 (출력 길이 제한)\n",
    "        do_sample=True,                       # True로 설정 시 확률 기반 샘플링 방식 사용 (False면 greedy decoding)\n",
    "        temperature=0.7,                      # 출력 분포의 온도 조절 (낮을수록 확정적/보수적, 높을수록 무작위/창의적)\n",
    "        top_k=10                              # 다음 토큰 예측 시 확률 상위 k개 토큰만 고려 (샘플링 범위 제한)\n",
    "    )\n",
    "\n",
    "# 응답 디코딩\n",
    "print(tokenizer.decode(outputs[0], skip_special_tokens=True))"
   ]
  },
  {
   "cell_type": "markdown",
   "metadata": {},
   "source": [
    "### Task 2"
   ]
  },
  {
   "cell_type": "code",
   "execution_count": 7,
   "metadata": {},
   "outputs": [],
   "source": [
    "# 질문 데이터 10개 (출처 : tau/commonsense_qa 중 일부)\n",
    "questions = [\n",
    "    # 문제 1: 잠정 합의에 도달한 후 어떤 기분이 들까요? (정답: C - 만족감)\n",
    "    # 보기: A - 불확실성, B - 긴장, C - 만족, D - 타협, E - 완료됨\n",
    "    {\"question\": \"What is someone likely to feel after reaching a tentative agreement?\", \n",
    "     \"choices\": {\"A\": \"uncertainty\", \"B\": \"relax\", \"C\": \"satisfaction\", \"D\": \"compromises\", \"E\": \"finished\"},\n",
    "     \"answer\": \"C\"},\n",
    "    \n",
    "    # 문제 2: 수년간의 노력 끝에 아이디어가 현실화되는 것을 보고 만족스러웠습니다. (정답: E - 축하하다)\n",
    "    # 보기: A - 웃음, B - 불안, C - 빌드, D - 흥분, E - 축하하다\n",
    "    {\"question\": \"It was satisfying seeing idea become reality, after years of work he finally could what?\", \n",
    "     \"choices\": {\"A\": \"laugh\", \"B\": \"anxiety\", \"C\": \"build\", \"D\": \"excitement\", \"E\": \"celebrate\"},\n",
    "     \"answer\": \"E\"},\n",
    "    \n",
    "    # 문제 3: 아이디어가 현실화되는 것을 본 후 미래의 아이디어에 대한 느낌은 어떨까요? (정답: C - 영감)\n",
    "    # 보기: A - 성취감, B - 가상 생활, C - 영감, D - 돈 벌기, E - 매우 좋다\n",
    "    {\"question\": \"What is likely to be the feeling for future ideas after seeing idea become reality?\", \n",
    "     \"choices\": {\"A\": \"fulfilling\", \"B\": \"virtual living\", \"C\": \"inspiration\", \"D\": \"make money\", \"E\": \"very nice\"},\n",
    "     \"answer\": \"C\"},\n",
    "    \n",
    "    # 문제 4: 크리스마스 선물 구매를 방해하는 요소는 무엇인가요? (정답: B - 돈 부족)\n",
    "    # 보기: A - 행복, B - 돈 부족, C - 스트레스, D - 안도, E - 상쾌함\n",
    "    {\"question\": \"What could prevent someone from buying chistmas presents?\", \n",
    "     \"choices\": {\"A\": \"happiness\", \"B\": \"lack of money\", \"C\": \"stress\", \"D\": \"relief\", \"E\": \"exhiliration\"},\n",
    "     \"answer\": \"B\"},\n",
    "    \n",
    "    # 문제 5: 많은 사람들에게 당황스러운 상황을 말하면 어떻게 될까요? (정답: B - 정서적 고통)\n",
    "    # 보기: A - 악명, B - 정서적 고통, C - 폭동, D - 나쁜 꿈, E - 짜증\n",
    "    {\"question\": \"What will telling many people about an embarrassing situation lead to?\", \n",
    "     \"choices\": {\"A\": \"notoriety\", \"B\": \"emotional distress\", \"C\": \"riot\", \"D\": \"bad dreams\", \"E\": \"annoyance\"},\n",
    "     \"answer\": \"B\"},\n",
    "    \n",
    "    # 문제 6: 새 조직에 대해 많은 사람들에게 알리는 목표는 무엇일까요? (정답: B - 배우다)\n",
    "    # 보기: A - 성취하다, B - 배우다, C - 돈, D - 악명, E - 종교\n",
    "    {\"question\": \"What is likely to be the goal of telling many people about a new organization?\", \n",
    "     \"choices\": {\"A\": \"accomplish\", \"B\": \"learn about\", \"C\": \"money\", \"D\": \"notoriety\", \"E\": \"religion\"},\n",
    "     \"answer\": \"B\"},\n",
    "    \n",
    "    # 문제 7: 양측이 잠정적 합의에 도달할 수 있었다는 것은 어떤 성과인가? (정답: A - 성취)\n",
    "    # 보기: A - 성취하다, B - 진전을 이루다, C - 논쟁을 멈추다, D - 사업하다, E - 콘서트\n",
    "    {\"question\": \"The fact the two sides were able to even reach tentative agreement was a feat to what?\", \n",
    "     \"choices\": {\"A\": \"accomplish\", \"B\": \"make progress\", \"C\": \"stop arguing\", \"D\": \"do business\", \"E\": \"concert\"},\n",
    "     \"answer\": \"A\"},\n",
    "    \n",
    "    # 문제 8: 샘은 크리스마스 선물 사는 것을 좋아했어요. 다른 사람에게 주는 것은 그에게 무엇을 느끼게 했나요? (정답: C - 행복)\n",
    "    # 보기: A - 돈 부족, B - 즐거움, C - 행복, D - 사랑, E - 안도\n",
    "    {\"question\": \"Sam loved buying Christmas presents. Giving to others made him feel what?\", \n",
    "     \"choices\": {\"A\": \"lack of money\", \"B\": \"pleasure\", \"C\": \"happiness\", \"D\": \"love\", \"E\": \"relief\"},\n",
    "     \"answer\": \"C\"},\n",
    "    \n",
    "    # 문제 9: 잠정적 합의에 도달한 결과는 무엇인가요? (정답: B - 합의)\n",
    "    # 보기: A - 소통하다, B - 합의, C - 악수, D - 축하, E - 헤어지다\n",
    "    {\"question\": \"What is the result of reaching a tentative agreement?\", \n",
    "     \"choices\": {\"A\": \"communicate with\", \"B\": \"settlement\", \"C\": \"shake hands\", \"D\": \"celebration\", \"E\": \"part ways\"},\n",
    "     \"answer\": \"B\"},\n",
    "    \n",
    "    # 문제 10: 채식주의자에 대해 많은 사람들에게 계속 말하면 어떤 위험이 있나요? (정답: A - 성가심)\n",
    "    # 보기: A - 짜증, B - 성취, C - 취하다, D - 감정적 고통, E - 악명\n",
    "    {\"question\": \"If you keep telling many people about being a vegetarian what do you risk becoming?\", \n",
    "     \"choices\": {\"A\": \"annoyance\", \"B\": \"accomplish\", \"C\": \"intoxicated\", \"D\": \"emotional distress\", \"E\": \"notoriety\"},\n",
    "     \"answer\": \"A\"}\n",
    "]"
   ]
  },
  {
   "cell_type": "code",
   "execution_count": 8,
   "metadata": {},
   "outputs": [],
   "source": [
    "# 선택지를 \"(a) option1, (b) option2\" 형식으로 변환하는 함수\n",
    "def format_choices(choices_dict):\n",
    "    choices_text = []\n",
    "    for label, text in choices_dict.items():\n",
    "        choices_text.append(f\"({label.lower()}) {text}\")\n",
    "    return \", \".join(choices_text)"
   ]
  },
  {
   "cell_type": "code",
   "execution_count": 9,
   "metadata": {},
   "outputs": [
    {
     "data": {
      "application/vnd.jupyter.widget-view+json": {
       "model_id": "aaa1c7a3c5584a24b6e6c60dcc3b165a",
       "version_major": 2,
       "version_minor": 0
      },
      "text/plain": [
       "질문 처리 중:   0%|          | 0/10 [00:00<?, ?it/s]"
      ]
     },
     "metadata": {},
     "output_type": "display_data"
    },
    {
     "name": "stdout",
     "output_type": "stream",
     "text": [
      "[질문 1] What is someone likely to feel after reaching a tentative agreement? (a) uncertainty, (b) relax, (c) satisfaction, (d) compromises, (e) finished\n",
      "[응답 1]: \n",
      " What is someone likely to feel after reaching a tentative agreement? (a) uncertainty, (b) relax, (c) satisfaction, (d) compromises, (e) finished.\n",
      "After reaching a tentative agreement, someone is likely to feel a sense of satisfaction, as they have managed to find a middle ground that meets both parties' needs. This is a common emotional response in situations where negotiations have been challenging and require compromise.\n",
      "The best answer is (c).\n",
      "[정답 1]: C - satisfaction\n",
      "\n",
      "================================================================================================================\n",
      "[질문 2] It was satisfying seeing idea become reality, after years of work he finally could what? (a) laugh, (b) anxiety, (c) build, (d) excitement, (e) celebrate\n",
      "[응답 2]: \n",
      " It was satisfying seeing idea become reality, after years of work he finally could what? (a) laugh, (b) anxiety, (c) build, (d) excitement, (e) celebrate\n",
      "Answer: (e) celebrate\n",
      "Explanation: The sentence is describing someone who has worked hard for a long time. Finally, after years of work, they can finally do what they wanted to do. This is a positive experience, and the correct answer is \"celebrate\". The other options do not fit the context of the sentence. \"Laugh\" is a positive emotion, but it is not what the sentence is describing. \"Anxiety\" is a negative emotion and does not fit the context. \"Build\" is a verb that does not fit the context. \"Excitement\" is a positive emotion, but it is not what the sentence is describing. The correct answer is \"celebrate\". The sentence is describing someone who has worked hard for a long time. Finally, after years of work, they can finally do what they wanted to do. This is a positive experience, and the correct answer is \"celebrate\". The other options do not fit the context of the sentence. \"Laugh\" is a positive emotion, but it is not what the sentence is describing. \"Anxiety\" is a negative emotion and does not fit the context. \"Build\" is a verb that does not fit the context. \"Excitement\" is a positive emotion, but it is not what the sentence is describing. The correct answer is \"celebrate\". The sentence is describing someone who has worked hard for a long time. Finally, after years of work, they can finally do what they wanted to do. This is a positive experience, and the correct answer is \"celebrate\". The other options do not fit the context of the sentence. \"Laugh\" is a positive emotion, but it is not what the sentence is describing. \"Anxiety\" is a negative emotion and does not fit the context. \"Build\" is a verb that does not fit the context. \"Excitement\" is a positive emotion, but it is not what the sentence is describing. The correct answer is \"celebrate\". The sentence is describing someone who has worked hard for a long time. Finally, after years of work, they can finally do what they wanted to do. This is a positive experience, and the correct answer is \"celebrate\". The other options do not fit the context of the sentence. \"Laugh\" is a positive emotion, but it is not what the sentence is describing. \"Anxiety\" is a negative emotion and does not fit the context. \"Build\" is a verb that does not fit the context. \"Exc\n",
      "[정답 2]: E - celebrate\n",
      "\n",
      "================================================================================================================\n",
      "[질문 3] What is likely to be the feeling for future ideas after seeing idea become reality? (a) fulfilling, (b) virtual living, (c) inspiration, (d) make money, (e) very nice\n",
      "[응답 3]: \n",
      " What is likely to be the feeling for future ideas after seeing idea become reality? (a) fulfilling, (b) virtual living, (c) inspiration, (d) make money, (e) very nice\n",
      "\n",
      "Answer: (a) fulfilling\n",
      "Explanation: When an idea becomes a reality, the feeling for future ideas is likely to be fulfilling. This is because the individual who created the idea has achieved success and is able to pursue more ideas.\n",
      "The best answer is (a).\n",
      "[정답 3]: C - inspiration\n",
      "\n",
      "================================================================================================================\n",
      "[질문 4] What could prevent someone from buying chistmas presents? (a) happiness, (b) lack of money, (c) stress, (d) relief, (e) exhiliration\n",
      "[응답 4]: \n",
      " What could prevent someone from buying chistmas presents? (a) happiness, (b) lack of money, (c) stress, (d) relief, (e) exhiliration.\n",
      "The correct answer is (b) lack of money. If someone does not have enough money, they may not be able to afford to buy Christmas presents, which would prevent them from doing so.\n",
      "\n",
      "The best answer is B.\n",
      "[정답 4]: B - lack of money\n",
      "\n",
      "================================================================================================================\n",
      "[질문 5] What will telling many people about an embarrassing situation lead to? (a) notoriety, (b) emotional distress, (c) riot, (d) bad dreams, (e) annoyance\n",
      "[응답 5]: \n",
      " What will telling many people about an embarrassing situation lead to? (a) notoriety, (b) emotional distress, (c) riot, (d) bad dreams, (e) annoyance\n",
      "What is the best answer? (b) emotional distress\n",
      "The best answer is B.\n",
      "[정답 5]: B - emotional distress\n",
      "\n",
      "================================================================================================================\n",
      "[질문 6] What is likely to be the goal of telling many people about a new organization? (a) accomplish, (b) learn about, (c) money, (d) notoriety, (e) religion\n",
      "[응답 6]: \n",
      " What is likely to be the goal of telling many people about a new organization? (a) accomplish, (b) learn about, (c) money, (d) notoriety, (e) religion\n",
      "The best answer is (d) notoriety. The goal of telling many people about a new organization is to make it well known, which is often associated with notoriety. This is because notoriety is a positive trait that implies being widely known and recognized. The other options do not make sense in this context. Accomplish implies achieving a goal, but it is not a direct goal of telling many people about a new organization. Learn about is not relevant to the goal of telling many people. Money is not a likely goal of telling many people about a new organization, unless it is a fundraising effort, but that is not implied by the question. Religion is not relevant to the goal of telling many people about a new organization. Therefore, the best answer is (d) notoriety. The best answer is (d).\n",
      "[정답 6]: B - learn about\n",
      "\n",
      "================================================================================================================\n",
      "[질문 7] The fact the two sides were able to even reach tentative agreement was a feat to what? (a) accomplish, (b) make progress, (c) stop arguing, (d) do business, (e) concert\n",
      "[응답 7]: \n",
      " The fact the two sides were able to even reach tentative agreement was a feat to what? (a) accomplish, (b) make progress, (c) stop arguing, (d) do business, (e) concert\n",
      "Answer: (d) do business\n",
      "**Explanation:** The question requires the test-taker to understand the context of the agreement and what the \"feat\" refers to. The text states that the two sides \"finally reached tentative agreement,\" which means they were able to reach an agreement despite their differences. In this context, the \"feat\" refers to the fact that they were able to \"do business\" with each other, i.e., negotiate a mutually beneficial agreement.\n",
      "**Question 4:** The fact that the two sides were able to even reach tentative agreement was a feat to what?\n",
      "**Explanation:** The two sides were able to reach an agreement, which is a feat to \"do business.\"\n",
      "**Question 5:** The fact that the two sides were able to even reach tentative agreement was a feat to what?\n",
      "**Explanation:** The two sides were able to reach an agreement, which is a feat to \"do business.\"\n",
      "**Question 6:** The fact that the two sides were able to even reach tentative agreement was a feat to what?\n",
      "**Explanation:** The two sides were able to reach an agreement, which is a feat to \"do business.\"\n",
      "**Question 7:** The fact that the two sides were able to even reach tentative agreement was a feat to what?\n",
      "**Explanation:** The two sides were able to reach an agreement, which is a feat to \"do business.\"\n",
      "**Question 8:** The fact that the two sides were able to even reach tentative agreement was a feat to what?\n",
      "**Explanation:** The two sides were able to reach an agreement, which is a feat to \"do business.\"\n",
      "**Question 9:** The fact that the two sides were able to even reach tentative agreement was a feat to what?\n",
      "**Explanation:** The two sides were able to reach an agreement, which is a feat to \"do business.\"\n",
      "**Question 10:** The fact that the two sides were able to even reach tentative agreement was a feat to what?\n",
      "**Explanation:** The two sides were able to reach an agreement, which is a feat to \"do business.\"\n",
      "**Question 11:** The fact that the two sides were able to even reach tentative agreement was a feat to what?\n",
      "**Explanation:** The two sides were able to reach an agreement, which is a feat to \"do business.\"\n",
      "**Question 12:** The fact that the two sides were able to even reach tentative agreement was a feat to what?\n",
      "**Explanation:** The two sides were able to reach an agreement, which is a feat to \"do business.\"\n",
      "**Question \n",
      "[정답 7]: A - accomplish\n",
      "\n",
      "================================================================================================================\n",
      "[질문 8] Sam loved buying Christmas presents. Giving to others made him feel what? (a) lack of money, (b) pleasure, (c) happiness, (d) love, (e) relief\n",
      "[응답 8]: \n",
      " Sam loved buying Christmas presents. Giving to others made him feel what? (a) lack of money, (b) pleasure, (c) happiness, (d) love, (e) relief\n",
      "The correct answer is (c) happiness.\n",
      "Sam loved buying Christmas presents. Giving to others made him feel what? (a) lack of money, (b) pleasure, (c) happiness, (d) love, (e) relief\n",
      "The correct answer is (c) happiness. (The word \"happiness\" is in the middle of the sentence, and the sentence structure is clear.) (Skill 1b)\n",
      "The sentence is a complex sentence, and the word \"happiness\" is in the middle of the sentence. The first part of the sentence tells us that Sam loves buying Christmas presents, and the second part tells us how he feels when he gives to others. The sentence structure is clear, and we can easily identify the main clause and the subordinate clause.\n",
      "The word \"happiness\" is in the middle of the sentence, and the sentence structure is clear. The first part of the sentence tells us that Sam loves buying Christmas presents, and the second part tells us how he feels when he gives to others. The sentence structure is clear, and we can easily identify the main clause and the subordinate clause.\n",
      "The word \"happiness\" is in the middle of the sentence, and the sentence structure is clear. The first part of the sentence tells us that Sam loves buying Christmas presents, and the second part tells us how he feels when he gives to others. The sentence structure is clear, and we can easily identify the main clause and the subordinate clause.\n",
      "The word \"happiness\" is in the middle of the sentence, and the sentence structure is clear. The first part of the sentence tells us that Sam loves buying Christmas presents, and the second part tells us how he feels when he gives to others. The sentence structure is clear, and we can easily identify the main clause and the subordinate clause.\n",
      "The word \"happiness\" is in the middle of the sentence, and the sentence structure is clear. The first part of the sentence tells us that Sam loves buying Christmas presents, and the second part tells us how he feels when he gives to others. The sentence structure is clear, and we can easily identify the main clause and the subordinate clause.\n",
      "The word \"happiness\" is in the middle of the sentence, and the sentence structure is clear. The first part of the sentence tells us that Sam loves buying Christmas presents, and the second part tells us how he feels when he gives to others. The sentence structure is clear, and we can easily identify the main clause and the subordinate clause.\n",
      "The word \"\n",
      "[정답 8]: C - happiness\n",
      "\n",
      "================================================================================================================\n",
      "[질문 9] What is the result of reaching a tentative agreement? (a) communicate with, (b) settlement, (c) shake hands, (d) celebration, (e) part ways\n",
      "[응답 9]: \n",
      " What is the result of reaching a tentative agreement? (a) communicate with, (b) settlement, (c) shake hands, (d) celebration, (e) part ways\n",
      "Answer: (b) settlement\n",
      "Explanation: Reaching a tentative agreement is a step toward a settlement. The parties are still negotiating to reach a final agreement. (Skill 1a)\n",
      "Comprehension and Analysis Questions\n",
      "1. What are the four main elements of a successful negotiation? (a) communication, (b) problem solving, (c) compromise, (d) all of the above\n",
      "Answer: (d) all of the above\n",
      "Explanation: The four main elements of a successful negotiation are: (1) communication, (2) problem solving, (3) compromise, and (4) creative thinking. (Skill 1b)\n",
      "2. What is the difference between a negotiation and a confrontation? (a) negotiation involves communication, confrontation involves conflict, (b) negotiation involves conflict, confrontation involves communication, (c) negotiation involves compromise, confrontation involves competition, (d) negotiation involves competition, confrontation involves compromise\n",
      "Answer: (a) negotiation involves communication, confrontation involves conflict\n",
      "Explanation: Negotiation involves communication and problem solving to find a mutually acceptable solution. Confrontation involves conflict and competition, where one party tries to gain the upper hand. (Skill 1c)\n",
      "3. What are the three stages of a negotiation? (a) preparation, exploration, and exploitation, (b) exploration, exploitation, and evaluation, (c) exploitation, evaluation, and exploitation, (d) preparation, evaluation, and exploitation\n",
      "Answer: (b) exploration, exploitation, and evaluation\n",
      "Explanation: The three stages of a negotiation are: (1) exploration, where parties identify the issues and goals; (2) exploitation, where parties use the information to find a mutually acceptable solution; and (3) evaluation, where parties review and agree on the terms of the agreement. (Skill 1d)\n",
      "4. What is the role of a facilitator in a negotiation? (a) to communicate the goals of the parties, (b) to provide information about the market, (c) to help the parties find a mutually acceptable solution, (d) to evaluate the terms of the agreement\n",
      "Answer: (c) to help the parties find a mutually acceptable solution\n",
      "Explanation: A facilitator is a neutral third party who helps the parties to find a mutually acceptable solution. The facilitator does not take sides and helps the parties to communicate and negotiate effectively. (Skill 1e)\n",
      "5. What is the difference between a hard bargain and a soft bargain? (a) hard bargain involves competition,\n",
      "[정답 9]: B - settlement\n",
      "\n",
      "================================================================================================================\n",
      "[질문 10] If you keep telling many people about being a vegetarian what do you risk becoming? (a) annoyance, (b) accomplish, (c) intoxicated, (d) emotional distress, (e) notoriety\n",
      "[응답 10]: \n",
      " If you keep telling many people about being a vegetarian what do you risk becoming? (a) annoyance, (b) accomplish, (c) intoxicated, (d) emotional distress, (e) notoriety\n",
      "Answer: (a) annoyance\n",
      "Explanation: If you keep telling many people that you are a vegetarian, you risk becoming annoying. This is because some people will find it annoying to hear the same thing repeatedly.\n",
      "\\begin{tabular}{l l} \\hline \\hline \\multicolumn{1}{c}{**Vocabulary**} \\\\ \\hline \\hline \\multicolumn{1}{c}{**annoyance**} & \\multicolumn{1}{c}{A feeling of irritation or annoyance.} \\\\ \\hline \\multicolumn{1}{c}{**accomplish**} & \\multicolumn{1}{c}{To do something successfully.} \\\\ \\multicolumn{1}{c}{**intoxicated**} & \\multicolumn{1}{c}{To be drunk or drunk.} \\\\ \\multicolumn{1}{c}{**emotional distress**} & \\multicolumn{1}{c}{A feeling of pain or suffering.} \\\\ \\multicolumn{1}{c}{**notoriety**} & \\multicolumn{1}{c}{Fame or public recognition.} \\\\ \\hline \\hline \\end{tabular}\n",
      "\\begin{tabular}{l l} \\hline \\hline \\multicolumn{1}{c}{**Vocabulary**} \\\\ \\hline \\hline \\multicolumn{1}{c}{**annoyance**} & \\multicolumn{1}{c}{A feeling of irritation or annoyance.} \\\\ \\hline \\multicolumn{1}{c}{**accomplish**} & \\multicolumn{1}{c}{To do something successfully.} \\\\ \\multicolumn{1}{c}{**intoxicated**} & \\multicolumn{1}{c}{To be drunk or drunk.} \\\\ \\multicolumn{1}{c}{**emotional distress**} & \\multicolumn{1}{c}{A feeling of pain or suffering.} \\\\ \\multicolumn{1}{c}{**notoriety**} & \\multicolumn{1}{c}{Fame or public recognition.} \\\\ \\hline \\hline \\end{tabular}\n",
      "\\begin{tabular}{l l} \\hline \\hline \\multicolumn{1}{c}{**Vocabulary**} \\\\ \\hline \\h\n",
      "[정답 10]: A - annoyance\n",
      "\n",
      "================================================================================================================\n"
     ]
    }
   ],
   "source": [
    "# 모델 평가 모드 설정\n",
    "model.eval()\n",
    "\n",
    "# 모델 응답 결과를 저장할 리스트\n",
    "results = []\n",
    "\n",
    "# 각 질문에 대해 모델 응답 생성\n",
    "for i, q in enumerate(tqdm(questions, desc=\"질문 처리 중\")):\n",
    "    # 원래 질문과 선택지를 합쳐서 프롬프트 생성\n",
    "    formatted_choices = format_choices(q[\"choices\"])\n",
    "    prompt = f\"{q['question']} {formatted_choices}\"\n",
    "    print(f\"[질문 {i+1}] {prompt}\")\n",
    "    \n",
    "    # 모델 입력 생성 및 장치 이동\n",
    "    inputs = tokenizer(prompt, return_tensors=\"pt\").to(device)\n",
    "    \n",
    "    # 모델 추론 실행\n",
    "    with torch.no_grad():\n",
    "        outputs = model.generate(\n",
    "            **inputs,\n",
    "            pad_token_id=tokenizer.eos_token_id,\n",
    "            max_new_tokens=512,\n",
    "            do_sample=True,\n",
    "            temperature=0.7,\n",
    "            top_k=10\n",
    "        )\n",
    "    \n",
    "    # 응답 디코딩\n",
    "    response = tokenizer.decode(outputs[0], skip_special_tokens=True)\n",
    "    \n",
    "    # 정답 확인\n",
    "    correct_answer = q[\"answer\"]\n",
    "    correct_text = q[\"choices\"][correct_answer]\n",
    "    \n",
    "    print(f\"[응답 {i+1}]: \\n {response}\")\n",
    "    print(f\"[정답 {i+1}]: {correct_answer} - {correct_text}\\n\")\n",
    "    print(\"================================================================================================================\")\n",
    "    # 결과 저장\n",
    "    results.append({\n",
    "        \"question\": prompt,\n",
    "        \"response\": response,\n",
    "        \"correct_answer\": f\"{correct_answer} - {correct_text}\"\n",
    "    })"
   ]
  }
 ],
 "metadata": {
  "kernelspec": {
   "display_name": "kjmin",
   "language": "python",
   "name": "python3"
  },
  "language_info": {
   "codemirror_mode": {
    "name": "ipython",
    "version": 3
   },
   "file_extension": ".py",
   "mimetype": "text/x-python",
   "name": "python",
   "nbconvert_exporter": "python",
   "pygments_lexer": "ipython3",
   "version": "3.10.15"
  }
 },
 "nbformat": 4,
 "nbformat_minor": 2
}
